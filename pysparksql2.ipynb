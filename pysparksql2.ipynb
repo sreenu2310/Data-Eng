{
 "cells": [
  {
   "cell_type": "code",
   "execution_count": null,
   "id": "f21595c0",
   "metadata": {},
   "outputs": [],
   "source": [
    "#importing pyspark\n",
    "import pyspark"
   ]
  },
  {
   "cell_type": "code",
   "execution_count": null,
   "id": "363bd7c2",
   "metadata": {},
   "outputs": [],
   "source": [
    "#importing sparksession\n",
    "from pyspark.sql import SparkSession"
   ]
  },
  {
   "cell_type": "code",
   "execution_count": null,
   "id": "5ca1509f",
   "metadata": {},
   "outputs": [],
   "source": [
    "#creating a sparksession object and providing appName \n",
    "spark=SparkSession.builder.appName(\"business_case_sql\").getOrCreate()"
   ]
  },
  {
   "cell_type": "code",
   "execution_count": null,
   "id": "4e95ce0c",
   "metadata": {},
   "outputs": [],
   "source": [
    "#To create dataframe form External datasets\n",
    "AirlineDF = spark.read.option(\"header\", \"true\").csv(\"airlines1.csv\")"
   ]
  },
  {
   "cell_type": "markdown",
   "id": "e2c1a93a",
   "metadata": {},
   "source": [
    "To register dataframe as a table"
   ]
  },
  {
   "cell_type": "code",
   "execution_count": null,
   "id": "2639c143",
   "metadata": {},
   "outputs": [],
   "source": [
    "AirlineDF.registerTempTable(\"AirlineTable\")"
   ]
  },
  {
   "cell_type": "code",
   "execution_count": null,
   "id": "c5188654",
   "metadata": {},
   "outputs": [],
   "source": [
    "#how to read the register table\n",
    "spark.sql(\"select * from AirlineTable\").show(5)"
   ]
  },
  {
   "cell_type": "code",
   "execution_count": null,
   "id": "b2c71e18",
   "metadata": {},
   "outputs": [],
   "source": [
    "#count number of rows\n",
    "spark.sql(\"select count(*) from AirlineTable\").show()"
   ]
  },
  {
   "cell_type": "code",
   "execution_count": null,
   "id": "67d41369",
   "metadata": {},
   "outputs": [],
   "source": [
    "#how to see all columns with datatype\n",
    "spark.sql(\"describe AirlineTable\").show(50)"
   ]
  },
  {
   "cell_type": "code",
   "execution_count": null,
   "id": "4b3dd126",
   "metadata": {},
   "outputs": [],
   "source": [
    "# select some columns form table\n",
    "spark.sql(\"select origin,destcityname from AirlineTable\").show(5)"
   ]
  },
  {
   "cell_type": "code",
   "execution_count": null,
   "id": "15fbd6bd",
   "metadata": {},
   "outputs": [],
   "source": [
    "# average departure delay \n",
    "spark.sql(\"select avg(DepDelayMinutes) from AirlineTable\").show()"
   ]
  },
  {
   "cell_type": "code",
   "execution_count": null,
   "id": "02b949b3",
   "metadata": {},
   "outputs": [],
   "source": [
    "#calculate overall flights delay \n",
    "spark.sql(\"select Flight_Number_Reporting_Airline,DepDelay+ArrDelay  from AirlineTable\").show()"
   ]
  },
  {
   "cell_type": "code",
   "execution_count": null,
   "id": "4160706e",
   "metadata": {},
   "outputs": [],
   "source": [
    "# count total number of flights by origin airport and total avg and maximum DepDelay time of each airport\n",
    "spark.sql(\"select origin,count(*),avg(DepDelayMinutes),max(DepDelayMinutes) from AirlineTable where group by origin\").show()"
   ]
  },
  {
   "cell_type": "code",
   "execution_count": null,
   "id": "17876f38",
   "metadata": {},
   "outputs": [],
   "source": [
    "# calculate origin state wise cancelled flights\n",
    "spark.sql(\"select OriginState,count(Cancelled) from AirlineTable where Cancelled = 1  group by originstate\").show(5)"
   ]
  },
  {
   "cell_type": "code",
   "execution_count": null,
   "id": "eb07853c",
   "metadata": {},
   "outputs": [],
   "source": [
    "#pass condition on two columns\n",
    "spark.sql(\"select origin,count(*) from AirlineTable where year = 2010 and month = 6  group by origin order by count(*) desc\").show()"
   ]
  },
  {
   "cell_type": "code",
   "execution_count": null,
   "id": "751f2d9a",
   "metadata": {},
   "outputs": [],
   "source": [
    "# pass more than two condition on difftent columns\n",
    "spark.sql(\"select DOT_ID_Reporting_Airline from AirlineTable where year = 2015 and month = 12 and origin = 'JFK'\").show()"
   ]
  },
  {
   "cell_type": "code",
   "execution_count": null,
   "id": "ddd7e47f",
   "metadata": {},
   "outputs": [],
   "source": [
    "#rank and number of diverted flight by origin \n",
    "spark.sql(\"select origin,sum(diverted),RANK() over(order by sum(diverted) desc) AS RANKING from AirlineTable group by origin\").show()"
   ]
  },
  {
   "cell_type": "markdown",
   "id": "fd04c12c",
   "metadata": {},
   "source": [
    "# Case Study 1\n",
    "To calulate year wise on time flight performance "
   ]
  },
  {
   "cell_type": "code",
   "execution_count": null,
   "id": "dacfd9ff",
   "metadata": {},
   "outputs": [],
   "source": [
    "df1 = spark.sql(\"select year,count(*) AS TOTAL_FLIGHT ,count(arrdelay==0) AS TOTAL_ON_TIME,sum(cancelled) AS TOTAL_CANCELLED,sum(diverted) AS TOTAL_DIRVERTED from AirlineTable where group by year;\")"
   ]
  },
  {
   "cell_type": "code",
   "execution_count": null,
   "id": "9cc79e1d",
   "metadata": {},
   "outputs": [],
   "source": [
    "df1.registerTempTable(\"AirlineTable1\")"
   ]
  },
  {
   "cell_type": "code",
   "execution_count": null,
   "id": "0917a167",
   "metadata": {},
   "outputs": [],
   "source": [
    "spark.sql(\"select * from AirlineTable1\").show()"
   ]
  },
  {
   "cell_type": "code",
   "execution_count": null,
   "id": "8f09c288",
   "metadata": {},
   "outputs": [],
   "source": [
    "# performance in percentage\n",
    "spark.sql(\"select year,TOTAL_FLIGHT,TOTAL_ON_TIME,TOTAL_ON_TIME*100/TOTAL_FLIGHT AS ON_TIME_PER,TOTAL_CANCELLED,TOTAL_CANCELLED*100/TOTAL_FLIGHT AS CANCELLED_PER,TOTAL_DIRVERTED,TOTAL_DIRVERTED*100/TOTAL_FLIGHT AS DIVERTED_PER from AirlineTable1;\").show()"
   ]
  },
  {
   "cell_type": "code",
   "execution_count": null,
   "id": "d2ece725",
   "metadata": {},
   "outputs": [],
   "source": [
    "#To calulate origincityname wise on time flight performance "
   ]
  },
  {
   "cell_type": "code",
   "execution_count": null,
   "id": "ab87331a",
   "metadata": {},
   "outputs": [],
   "source": [
    "df2 = spark.sql(\"select origincityname,count(*) AS TOTAL_FLIGHT ,count(arrdelay==0) AS TOTAL_ON_TIME,sum(cancelled) AS TOTAL_CANCELLED,sum(diverted) AS TOTAL_DIRVERTED from AirlineTable where group by origincityname;\")"
   ]
  },
  {
   "cell_type": "code",
   "execution_count": null,
   "id": "bfd32a62",
   "metadata": {},
   "outputs": [],
   "source": [
    "df2.registerTempTable(\"AirlineTable2\")"
   ]
  },
  {
   "cell_type": "code",
   "execution_count": null,
   "id": "b5035ece",
   "metadata": {},
   "outputs": [],
   "source": [
    "spark.sql(\"select * from AirlineTable2\").show()"
   ]
  },
  {
   "cell_type": "code",
   "execution_count": null,
   "id": "d1f59b33",
   "metadata": {},
   "outputs": [],
   "source": [
    "spark.sql(\"select origincityname,TOTAL_FLIGHT,TOTAL_ON_TIME,TOTAL_ON_TIME*100/TOTAL_FLIGHT AS ON_TIME_PER,TOTAL_CANCELLED,TOTAL_CANCELLED*100/TOTAL_FLIGHT AS CANCELLED_PER,TOTAL_DIRVERTED,TOTAL_DIRVERTED*100/TOTAL_FLIGHT AS DIVERTED_PER from AirlineTable2;\").show()"
   ]
  },
  {
   "cell_type": "code",
   "execution_count": null,
   "id": "21e45d2b",
   "metadata": {},
   "outputs": [],
   "source": []
  },
  {
   "cell_type": "code",
   "execution_count": null,
   "id": "9b8ec997",
   "metadata": {},
   "outputs": [],
   "source": [
    "# multiple group by columns\n",
    "spark.sql(\"select origin,origincityname,count(*) from AirlineTable group by origin,origincityname;\").show()"
   ]
  },
  {
   "cell_type": "code",
   "execution_count": null,
   "id": "649dfdca",
   "metadata": {},
   "outputs": [],
   "source": [
    "# rank of origin by number of flights\n",
    "spark.sql(\"select rank() over (ORDER BY count(*)desc),origin,origincityname,count(*) from AirlineTable where group by origin,origincityname;\").show()"
   ]
  },
  {
   "cell_type": "code",
   "execution_count": null,
   "id": "a43f109f",
   "metadata": {},
   "outputs": [],
   "source": [
    "#total air time and distance travel by flights\n",
    "spark.sql(\"select AirTime,Distance from AirlineTable\").show()"
   ]
  },
  {
   "cell_type": "code",
   "execution_count": null,
   "id": "fd965f3a",
   "metadata": {},
   "outputs": [],
   "source": [
    "#speed of flights in miles/hour"
   ]
  },
  {
   "cell_type": "code",
   "execution_count": null,
   "id": "1e24091c",
   "metadata": {},
   "outputs": [],
   "source": [
    "df3 = spark.sql(\"select AirTime/60 As AirTime_Hour,Distance from AirlineTable\")"
   ]
  },
  {
   "cell_type": "code",
   "execution_count": null,
   "id": "8c0bc7e4",
   "metadata": {},
   "outputs": [],
   "source": [
    "df3.registerTempTable(\"AirlineTable3\")"
   ]
  },
  {
   "cell_type": "code",
   "execution_count": null,
   "id": "312a877c",
   "metadata": {},
   "outputs": [],
   "source": [
    "spark.sql(\"select AirTime_Hour,Distance, Distance/AirTime_Hour from AirlineTable3\").show()"
   ]
  },
  {
   "cell_type": "code",
   "execution_count": null,
   "id": "2f6f6e8c",
   "metadata": {},
   "outputs": [],
   "source": []
  }
 ],
 "metadata": {
  "kernelspec": {
   "display_name": "Python 3 (ipykernel)",
   "language": "python",
   "name": "python3"
  },
  "language_info": {
   "codemirror_mode": {
    "name": "ipython",
    "version": 3
   },
   "file_extension": ".py",
   "mimetype": "text/x-python",
   "name": "python",
   "nbconvert_exporter": "python",
   "pygments_lexer": "ipython3",
   "version": "3.9.7"
  }
 },
 "nbformat": 4,
 "nbformat_minor": 5
}
